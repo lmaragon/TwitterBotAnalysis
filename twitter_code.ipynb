{
 "cells": [
  {
   "cell_type": "code",
   "execution_count": null,
   "metadata": {},
   "outputs": [],
   "source": [
    "import numpy as np \n",
    "import pandas as pd \n",
    "import matplotlib.pyplot as plt\n",
    "import glob\n",
    "import seaborn as sns\n",
    "from datetime import datetime"
   ]
  },
  {
   "cell_type": "code",
   "execution_count": null,
   "metadata": {},
   "outputs": [],
   "source": [
    "# Read in all the data\n",
    "d = {}\n",
    "\n",
    "for filename in glob.glob('russian-troll-tweets-master/*.csv'):\n",
    "    d[filename[:-4]] = pd.read_csv(filename, header=0)"
   ]
  },
  {
   "cell_type": "code",
   "execution_count": null,
   "metadata": {},
   "outputs": [],
   "source": [
    "# Create Dataframe\n",
    "data = pd.concat(d.values())"
   ]
  },
  {
   "cell_type": "code",
   "execution_count": null,
   "metadata": {},
   "outputs": [],
   "source": [
    "# View first few rows\n",
    "data.head()"
   ]
  },
  {
   "cell_type": "code",
   "execution_count": null,
   "metadata": {},
   "outputs": [],
   "source": [
    "# Size of dataframe\n",
    "data.shape"
   ]
  },
  {
   "cell_type": "code",
   "execution_count": null,
   "metadata": {},
   "outputs": [],
   "source": [
    "# Plot tweets function\n",
    "def plot_tw(d, col, title, ax=None):\n",
    "    \n",
    "    if ax is None:\n",
    "        ax = plt.gca()\n",
    "        \n",
    "    time_list = []\n",
    "    for item in d['publish_date']:\n",
    "        old_date = datetime.strptime(item, '%m/%d/%Y %H:%M')\n",
    "        new_date = old_date.date()\n",
    "        time_list.append(new_date)\n",
    "        \n",
    "    df = pd.DataFrame(time_list) \n",
    "    \n",
    "    plotting_df = df.stack().value_counts().reset_index(name='counts')\n",
    "\n",
    "    ax.plot_date(plotting_df['index'], plotting_df['counts'], fmt='.', color=col)\n",
    "    ax.set_ylim(0, plotting_df['counts'].values.max()+1)\n",
    "    fig.autofmt_xdate()\n",
    "    plt.xlabel('Date', fontsize=18)\n",
    "    plt.ylabel('Counts', fontsize=18)\n",
    "    ax.grid(color='grey', linestyle='-', linewidth=0.25, alpha=0.9)\n",
    "    ax.set_facecolor(\"#f7f7f7\")\n",
    "    ax.set_title(title, y=0.9, fontsize=18)\n",
    "    # We change the fontsize of minor ticks label \n",
    "    ax.tick_params(axis='both', which='major', labelsize=15)\n",
    "    ax.tick_params(axis='both', which='minor', labelsize=15)\n",
    "    \n",
    "    return ax\n",
    "\n",
    "# Plot total tweets over time\n",
    "fig, ax = plt.subplots(figsize=(20,12))\n",
    "plot_tw(data, 'purple', 'Total Tweets by Bots Over Time',ax)"
   ]
  },
  {
   "cell_type": "code",
   "execution_count": null,
   "metadata": {},
   "outputs": [],
   "source": [
    "# packages need for text mining\n",
    "import nltk\n",
    "nltk.download('stopwords')\n",
    "nltk.download('punkt') # tockenizer\n",
    "nltk.download('averaged_perceptron_tagger')\n",
    "nltk.download('wordnet')\n",
    "\n",
    "# import necessary modules\n",
    "import re\n",
    "import string\n",
    "from nltk.stem import WordNetLemmatizer\n",
    "\n",
    "wnl = WordNetLemmatizer()"
   ]
  },
  {
   "cell_type": "code",
   "execution_count": null,
   "metadata": {},
   "outputs": [],
   "source": [
    "# Tokenize words\n",
    "def tokenize_text(text):\n",
    "    tokens = nltk.word_tokenize(text) \n",
    "    tokens = [token.strip() for token in tokens]\n",
    "    return tokens"
   ]
  },
  {
   "cell_type": "code",
   "execution_count": null,
   "metadata": {},
   "outputs": [],
   "source": [
    "# Remove special characters\n",
    "def remove_special_characters(text):\n",
    "    tokens = tokenize_text(text)\n",
    "    pattern = re.compile('[{}]'.format(re.escape(string.punctuation)))\n",
    "    filtered_tokens = filter(None, [pattern.sub('', token) for token in tokens])\n",
    "    filtered_text = ' '.join(filtered_tokens)\n",
    "    return filtered_text"
   ]
  },
  {
   "cell_type": "code",
   "execution_count": null,
   "metadata": {},
   "outputs": [],
   "source": [
    "# Remove stopwords\n",
    "from sklearn.feature_extraction.stop_words import ENGLISH_STOP_WORDS\n",
    "def remove_stopwords(text,stopword_list):\n",
    "    tokens = tokenize_text(text)\n",
    "    filtered_tokens = [token for token in tokens if token not in stopword_list]\n",
    "    filtered_text = ' '.join(filtered_tokens)    \n",
    "    return filtered_text"
   ]
  },
  {
   "cell_type": "code",
   "execution_count": null,
   "metadata": {},
   "outputs": [],
   "source": [
    "# Remove twitter link\n",
    "def remove_custom(text):\n",
    "    sep = 'htt'\n",
    "    rest = text.split(sep, 1)[0]\n",
    "    return rest"
   ]
  },
  {
   "cell_type": "code",
   "execution_count": null,
   "metadata": {},
   "outputs": [],
   "source": [
    "from nltk import pos_tag\n",
    "from nltk.corpus import wordnet as wn\n",
    "\n",
    "# Annotate text tokens with POS tags\n",
    "def pos_tag_text(text):\n",
    "    \n",
    "    def penn_to_wn_tags(pos_tag):\n",
    "        if pos_tag.startswith('J'):\n",
    "            return wn.ADJ\n",
    "        elif pos_tag.startswith('V'):\n",
    "            return wn.VERB\n",
    "        elif pos_tag.startswith('N'):\n",
    "            return wn.NOUN\n",
    "        elif pos_tag.startswith('R'):\n",
    "            return wn.ADV\n",
    "        else:\n",
    "            return None\n",
    "\n",
    "    tagged_text = pos_tag(text)\n",
    "    tagged_lower_text = [(word.lower(), penn_to_wn_tags(pos_tag))\n",
    "                         for word, pos_tag in\n",
    "                         tagged_text]\n",
    "    return tagged_lower_text"
   ]
  },
  {
   "cell_type": "code",
   "execution_count": null,
   "metadata": {},
   "outputs": [],
   "source": [
    "# lemmatize text based on POS tags    \n",
    "def lemmatize_text(text):\n",
    "    text = tokenize_text(text)\n",
    "    pos_tagged_text = pos_tag_text(text)\n",
    "    lemmatized_tokens = [wnl.lemmatize(word, pos_tag) if pos_tag\n",
    "                         else word                     \n",
    "                         for word, pos_tag in pos_tagged_text]\n",
    "    lemmatized_text = ' '.join(lemmatized_tokens)\n",
    "    return lemmatized_text"
   ]
  },
  {
   "cell_type": "code",
   "execution_count": null,
   "metadata": {},
   "outputs": [],
   "source": [
    "# Text normalization pipeline\n",
    "from sklearn.feature_extraction.stop_words import ENGLISH_STOP_WORDS\n",
    "import re\n",
    "\n",
    "def keep_text_characters(text):\n",
    "    filtered_tokens = []\n",
    "    tokens = tokenize_text(text)\n",
    "    for token in tokens:\n",
    "        if re.search('[a-zA-Z]', token):\n",
    "            filtered_tokens.append(token)\n",
    "    filtered_text = ' '.join(filtered_tokens)\n",
    "    return filtered_text\n",
    "\n",
    "# Main normalize text function\n",
    "def normalize_text(text,tokenize=False):\n",
    "    text = lemmatize_text(text)\n",
    "    text = remove_special_characters(text)\n",
    "    text = text.lower()\n",
    "    text = remove_stopwords(text,ENGLISH_STOP_WORDS)\n",
    "    text = keep_text_characters(text)\n",
    "    text = remove_custom(text)\n",
    "\n",
    "    return text"
   ]
  },
  {
   "cell_type": "code",
   "execution_count": null,
   "metadata": {},
   "outputs": [],
   "source": [
    "# Get tweets text\n",
    "tweets = data['content'].dropna()"
   ]
  },
  {
   "cell_type": "code",
   "execution_count": null,
   "metadata": {},
   "outputs": [],
   "source": [
    "# Example of normalization\n",
    "print(\"Example sentence:\", tweets.iloc[101])\n",
    "print(\"Normalized sentence:\", normalize_text(tweets.iloc[101]))"
   ]
  },
  {
   "cell_type": "code",
   "execution_count": null,
   "metadata": {},
   "outputs": [],
   "source": [
    "# Normalize all the tweets (takes several hours)\n",
    "normalized_list = []\n",
    "\n",
    "for word_entry in tweets:\n",
    "    normalized_list.append(normalize_text(word_entry))\n",
    "\n",
    "# Save in file\n",
    "with open('norm.txt', 'w') as f:\n",
    "    for item in normalized_list:\n",
    "        f.write(\"%s\\n\" % item)"
   ]
  },
  {
   "cell_type": "code",
   "execution_count": null,
   "metadata": {},
   "outputs": [],
   "source": [
    "# Get list from file\n",
    "with open('norm.txt', 'r') as f:\n",
    "    mylist = f.read().split('\\n')"
   ]
  },
  {
   "cell_type": "code",
   "execution_count": null,
   "metadata": {},
   "outputs": [],
   "source": [
    "from nltk.tokenize import word_tokenize\n",
    "\n",
    "# Split normalized tweets for single words\n",
    "single_word_list = []\n",
    "\n",
    "for entry in mylist:\n",
    "    tk = word_tokenize(entry)\n",
    "    for i in tk:\n",
    "        single_word_list.append(i)\n",
    "\n",
    "single_word_list[0:10]"
   ]
  },
  {
   "cell_type": "code",
   "execution_count": null,
   "metadata": {},
   "outputs": [],
   "source": [
    "# Finds most frequent words\n",
    "fdist = nltk.FreqDist(single_word_list)\n",
    "\n",
    "try:\n",
    "    del fdist[\"s\"]\n",
    "    del fdist['nt']\n",
    "    del fdist['rt']\n",
    "except KeyError:\n",
    "    print(\"Key not found\")\n",
    "    \n",
    "fdist"
   ]
  },
  {
   "cell_type": "code",
   "execution_count": null,
   "metadata": {},
   "outputs": [],
   "source": [
    "# bar chart with count of most common words\n",
    "\n",
    "x, y = zip(*fdist.most_common(n=20)) # Unzip the tuples into lists\n",
    "plt.figure(figsize=(20,8))\n",
    "plt.bar(range(len(x)), y)\n",
    "plt.xticks(range(len(x)), x)\n",
    "plt.tick_params(axis='both', which='major', labelsize=14)\n",
    "plt.tick_params(axis='both', which='minor', labelsize=16)\n",
    "plt.title(\"Highest Frequency Words in Tweets\", fontsize = 24)\n",
    "plt.ylabel(\"Number of Occurances\", fontsize=18)\n",
    "plt.show()"
   ]
  },
  {
   "cell_type": "code",
   "execution_count": null,
   "metadata": {
    "scrolled": true
   },
   "outputs": [],
   "source": [
    "# Find tweets with word 'Trump'\n",
    "\n",
    "data_subset = data.sample(n = 100, random_state = 122) \n",
    "\n",
    "for index, row in data_subset.iterrows():\n",
    "    if ('trump' in row['content'] or 'Trump' in row['content']):\n",
    "        print(row['author'], ',', row['publish_date'], ':', row['content'], '\\n')"
   ]
  },
  {
   "cell_type": "code",
   "execution_count": null,
   "metadata": {},
   "outputs": [],
   "source": [
    "# Find tweets with word 'Obama'\n",
    "\n",
    "data_subset2 = data.sample(n = 500, random_state = 122) \n",
    "\n",
    "for index, row in data_subset2.iterrows():\n",
    "    if ('Obama' in row['content'] or 'obama' in row['content']):\n",
    "        print(row['author'], ',', row['publish_date'], ':', row['content'], '\\n')"
   ]
  },
  {
   "cell_type": "code",
   "execution_count": null,
   "metadata": {},
   "outputs": [],
   "source": [
    "# View different categories\n",
    "print(data['account_category'].nunique())\n",
    "data.groupby('account_category').agg('count')"
   ]
  },
  {
   "cell_type": "code",
   "execution_count": null,
   "metadata": {},
   "outputs": [],
   "source": [
    "# Subset data based on three groups\n",
    "fearmonger = data.loc[data['account_category'] == 'Fearmonger']\n",
    "leftTroll = data.loc[data['account_category'] == 'LeftTroll']\n",
    "rightTroll = data.loc[data['account_category'] == 'RightTroll']"
   ]
  },
  {
   "cell_type": "code",
   "execution_count": null,
   "metadata": {},
   "outputs": [],
   "source": [
    "# Plot tweets throughout time per group\n",
    "\n",
    "fig, axs = plt.subplots(2, 2, sharex=True, sharey=True,\n",
    "                        gridspec_kw={'hspace': 0, 'wspace': 0},\n",
    "                        figsize=(20,12))\n",
    "\n",
    "(ax1, ax2), (ax3, ax4) = axs\n",
    "fig.suptitle('Bot Tweets over Time', fontsize = 20)\n",
    "plot_tw(data, 'green', 'All Bots', ax1)\n",
    "plot_tw(fearmonger, 'orange', 'Fearmonger', ax2)\n",
    "plot_tw(leftTroll, 'blue', 'Left Troll', ax3)\n",
    "plot_tw(rightTroll, 'red', 'Right Troll', ax4)\n",
    "\n",
    "for ax in axs.flat:\n",
    "    ax.label_outer()"
   ]
  },
  {
   "cell_type": "code",
   "execution_count": null,
   "metadata": {
    "scrolled": true
   },
   "outputs": [],
   "source": [
    "# Plot biplot\n",
    "biTradeWords = nltk.bigrams(single_word_list)\n",
    "biFdist = nltk.FreqDist(biTradeWords)\n",
    "print(biFdist.most_common(10))\n",
    "biFdist.plot(20, cumulative=False)\n",
    "plt.xticks(fontsize=20)"
   ]
  },
  {
   "cell_type": "code",
   "execution_count": null,
   "metadata": {},
   "outputs": [],
   "source": [
    "# Plot histogram of tweet responses\n",
    "\n",
    "fig, ax = plt.subplots(figsize=(20,12))\n",
    "\n",
    "update_list = data.groupby('updates')['tweet_id'].count()\n",
    "\n",
    "ax = sns.distplot(data['updates'], kde=False)\n",
    "ax.set_title(\"Distribution of Tweet Updates for a Tweet\", fontsize = 20)\n",
    "plt.xlabel('Tweet Reception (Likes, Retweets, Replies)', fontsize=18)\n",
    "plt.ylabel('Count', fontsize=18)\n",
    "ax.tick_params(axis='both', which='major', labelsize=15)\n",
    "ax.tick_params(axis='both', which='minor', labelsize=15)\n",
    "ax.set_xlim(-100, 70000)"
   ]
  },
  {
   "cell_type": "code",
   "execution_count": null,
   "metadata": {},
   "outputs": [],
   "source": [
    "# Find median of tweet responses\n",
    "np.median(data['updates'])"
   ]
  },
  {
   "cell_type": "code",
   "execution_count": null,
   "metadata": {},
   "outputs": [],
   "source": [
    "# Check to see if tweets on October 6 were unique\n",
    "\n",
    "# Get times\n",
    "time_list2 = []\n",
    "for item in data['publish_date']:\n",
    "    old_date = datetime.strptime(item, '%m/%d/%Y %H:%M')\n",
    "    new_date = old_date.date()\n",
    "    time_list2.append(new_date)\n",
    "    \n",
    "import datetime\n",
    "\n",
    "# Get time equal to Oct 6, 2016\n",
    "indexes = []\n",
    "for i in range(len(time_list2)):\n",
    "    if (time_list2[i] == datetime.date(2016, 10, 6)):\n",
    "        indexes.append(i)\n",
    "        \n",
    "import random\n",
    "random.seed(122)\n",
    "idx_subset = random.sample(indexes, 200)\n",
    "\n",
    "# View tweets on that day\n",
    "for i in idx_subset:\n",
    "    print(data['author'].iloc[i], ',', data['publish_date'].iloc[i], ':', data['content'].iloc[i], '\\n')"
   ]
  },
  {
   "cell_type": "code",
   "execution_count": null,
   "metadata": {},
   "outputs": [],
   "source": [
    "# View tweets from category Hashtag Gamer\n",
    "\n",
    "data_subset4 = data.sample(n = 2000, random_state = 122) \n",
    "\n",
    "for index, row in data_subset4.iterrows():\n",
    "    if (row['account_category'] == 'HashtagGamer'):\n",
    "        print(row['author'], ',', row['publish_date'], ':', row['content'], '\\n')"
   ]
  },
  {
   "cell_type": "code",
   "execution_count": null,
   "metadata": {},
   "outputs": [],
   "source": [
    "# Plot wordcloud\n",
    "\n",
    "from wordcloud import WordCloud, STOPWORDS, ImageColorGenerator\n",
    "\n",
    "wordcloud = WordCloud(background_color=\"white\").generate(\" \".join(single_word_list))\n",
    "\n",
    "plt.figure()\n",
    "plt.imshow(wordcloud, interpolation=\"bilinear\")\n",
    "plt.axis(\"off\")\n",
    "plt.show()"
   ]
  },
  {
   "cell_type": "code",
   "execution_count": null,
   "metadata": {},
   "outputs": [],
   "source": [
    "# Find tweets from category fearmonger\n",
    "\n",
    "data_subset_fear = fearmonger.sample(n = 5, random_state = 1234) \n",
    "\n",
    "for index, row in data_subset_fear.iterrows():\n",
    "    print(row['author'], ',', row['publish_date'], ':', row['content'], '\\n')"
   ]
  },
  {
   "cell_type": "code",
   "execution_count": null,
   "metadata": {},
   "outputs": [],
   "source": [
    "# View data by language\n",
    "data.groupby('language').count()"
   ]
  }
 ],
 "metadata": {
  "kernelspec": {
   "display_name": "Python 3",
   "language": "python",
   "name": "python3"
  },
  "language_info": {
   "codemirror_mode": {
    "name": "ipython",
    "version": 3
   },
   "file_extension": ".py",
   "mimetype": "text/x-python",
   "name": "python",
   "nbconvert_exporter": "python",
   "pygments_lexer": "ipython3",
   "version": "3.7.1"
  }
 },
 "nbformat": 4,
 "nbformat_minor": 1
}
